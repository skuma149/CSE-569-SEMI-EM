{
 "cells": [
  {
   "cell_type": "markdown",
   "metadata": {},
   "source": [
    "# Task 3:\n",
    "Multiple Mixture components using labeled data: You will relax the assumption made in the\n",
    "first 2 experiments. You will consider that a single news article can belong to several subtopics\n",
    "and experiment with a Naive Bayes classifier using multiple mixture components on the labeled\n",
    "dataset."
   ]
  },
  {
   "cell_type": "code",
   "execution_count": 1,
   "metadata": {},
   "outputs": [],
   "source": [
    "from sklearn.feature_extraction.text import TfidfVectorizer\n",
    "from sklearn.naive_bayes import MultinomialNB\n",
    "from sklearn.metrics import accuracy_score\n",
    "from sklearn import metrics\n",
    "import pandas as pd \n",
    "import numpy as np\n",
    "import seaborn as sns\n",
    "import matplotlib.pyplot as plt\n",
    "import re"
   ]
  },
  {
   "cell_type": "code",
   "execution_count": 2,
   "metadata": {},
   "outputs": [
    {
     "data": {
      "text/html": [
       "<div>\n",
       "<style scoped>\n",
       "    .dataframe tbody tr th:only-of-type {\n",
       "        vertical-align: middle;\n",
       "    }\n",
       "\n",
       "    .dataframe tbody tr th {\n",
       "        vertical-align: top;\n",
       "    }\n",
       "\n",
       "    .dataframe thead th {\n",
       "        text-align: right;\n",
       "    }\n",
       "</style>\n",
       "<table border=\"1\" class=\"dataframe\">\n",
       "  <thead>\n",
       "    <tr style=\"text-align: right;\">\n",
       "      <th></th>\n",
       "      <th>Unnamed: 0</th>\n",
       "      <th>X</th>\n",
       "      <th>Y</th>\n",
       "    </tr>\n",
       "  </thead>\n",
       "  <tbody>\n",
       "    <tr>\n",
       "      <td>0</td>\n",
       "      <td>0</td>\n",
       "      <td>bahia cocoa review shower continu throughout w...</td>\n",
       "      <td>['cocoa']</td>\n",
       "    </tr>\n",
       "    <tr>\n",
       "      <td>1</td>\n",
       "      <td>1</td>\n",
       "      <td>comput termin system lt cpml complet sale comp...</td>\n",
       "      <td>['acq']</td>\n",
       "    </tr>\n",
       "    <tr>\n",
       "      <td>2</td>\n",
       "      <td>2</td>\n",
       "      <td>n z trade bank deposit growth rise slightli ne...</td>\n",
       "      <td>['money-supply']</td>\n",
       "    </tr>\n",
       "    <tr>\n",
       "      <td>3</td>\n",
       "      <td>3</td>\n",
       "      <td>nation amus up viacom lt via bid viacom intern...</td>\n",
       "      <td>['acq']</td>\n",
       "    </tr>\n",
       "    <tr>\n",
       "      <td>4</td>\n",
       "      <td>4</td>\n",
       "      <td>roger lt rog see st qtr net significantli roge...</td>\n",
       "      <td>['earn']</td>\n",
       "    </tr>\n",
       "    <tr>\n",
       "      <td>...</td>\n",
       "      <td>...</td>\n",
       "      <td>...</td>\n",
       "      <td>...</td>\n",
       "    </tr>\n",
       "    <tr>\n",
       "      <td>7764</td>\n",
       "      <td>7764</td>\n",
       "      <td>u k money market shortag forecast revis bank e...</td>\n",
       "      <td>['interest', 'money-fx']</td>\n",
       "    </tr>\n",
       "    <tr>\n",
       "      <td>7765</td>\n",
       "      <td>7765</td>\n",
       "      <td>knight ridder inc lt krn set quarterli qtli di...</td>\n",
       "      <td>['earn']</td>\n",
       "    </tr>\n",
       "    <tr>\n",
       "      <td>7766</td>\n",
       "      <td>7766</td>\n",
       "      <td>technitrol inc lt tnl set quarterli qtli div c...</td>\n",
       "      <td>['earn']</td>\n",
       "    </tr>\n",
       "    <tr>\n",
       "      <td>7767</td>\n",
       "      <td>7767</td>\n",
       "      <td>nationwid cellular servic inc lt ncel th qtr s...</td>\n",
       "      <td>['earn']</td>\n",
       "    </tr>\n",
       "    <tr>\n",
       "      <td>7768</td>\n",
       "      <td>7768</td>\n",
       "      <td>lt h automot technolog corp year net shr ct vs...</td>\n",
       "      <td>['earn']</td>\n",
       "    </tr>\n",
       "  </tbody>\n",
       "</table>\n",
       "<p>7769 rows × 3 columns</p>\n",
       "</div>"
      ],
      "text/plain": [
       "      Unnamed: 0                                                  X  \\\n",
       "0              0  bahia cocoa review shower continu throughout w...   \n",
       "1              1  comput termin system lt cpml complet sale comp...   \n",
       "2              2  n z trade bank deposit growth rise slightli ne...   \n",
       "3              3  nation amus up viacom lt via bid viacom intern...   \n",
       "4              4  roger lt rog see st qtr net significantli roge...   \n",
       "...          ...                                                ...   \n",
       "7764        7764  u k money market shortag forecast revis bank e...   \n",
       "7765        7765  knight ridder inc lt krn set quarterli qtli di...   \n",
       "7766        7766  technitrol inc lt tnl set quarterli qtli div c...   \n",
       "7767        7767  nationwid cellular servic inc lt ncel th qtr s...   \n",
       "7768        7768  lt h automot technolog corp year net shr ct vs...   \n",
       "\n",
       "                             Y  \n",
       "0                    ['cocoa']  \n",
       "1                      ['acq']  \n",
       "2             ['money-supply']  \n",
       "3                      ['acq']  \n",
       "4                     ['earn']  \n",
       "...                        ...  \n",
       "7764  ['interest', 'money-fx']  \n",
       "7765                  ['earn']  \n",
       "7766                  ['earn']  \n",
       "7767                  ['earn']  \n",
       "7768                  ['earn']  \n",
       "\n",
       "[7769 rows x 3 columns]"
      ]
     },
     "execution_count": 2,
     "metadata": {},
     "output_type": "execute_result"
    }
   ],
   "source": [
    "train = pd.read_csv('../data/train_cleaned_stemed_reuters.csv', delimiter = ',')\n",
    "test = pd.read_csv('../data/test_cleaned_stemed_reuters.csv', delimiter = ',')\n",
    "train "
   ]
  },
  {
   "cell_type": "code",
   "execution_count": 3,
   "metadata": {},
   "outputs": [
    {
     "data": {
      "text/plain": [
       "['interest', 'money-fx']"
      ]
     },
     "execution_count": 3,
     "metadata": {},
     "output_type": "execute_result"
    }
   ],
   "source": [
    "train['Y'] = train.Y.apply(lambda x: re.sub('\\s+', '', x))\n",
    "train['Y'] = train.Y.apply(lambda x: re.sub('\\'', '', x))\n",
    "train['Y'] = train.Y.apply(lambda x: x[1:-1].split(','))\n",
    "\n",
    "train[\"Y\"][7764]"
   ]
  },
  {
   "cell_type": "code",
   "execution_count": 4,
   "metadata": {},
   "outputs": [],
   "source": [
    "test['Y'] = test.Y.apply(lambda x: re.sub('\\s+', '', x))\n",
    "test['Y'] = test.Y.apply(lambda x: re.sub('\\'', '', x))\n",
    "test['Y'] = test.Y.apply(lambda x: x[1:-1].split(','))"
   ]
  },
  {
   "cell_type": "code",
   "execution_count": 5,
   "metadata": {},
   "outputs": [
    {
     "data": {
      "text/plain": [
       "(7769,)"
      ]
     },
     "execution_count": 5,
     "metadata": {},
     "output_type": "execute_result"
    }
   ],
   "source": [
    "train_X = np.array(train[\"X\"])\n",
    "train_Y = np.array(train[\"Y\"])\n",
    "train_X.shape"
   ]
  },
  {
   "cell_type": "code",
   "execution_count": 6,
   "metadata": {},
   "outputs": [
    {
     "data": {
      "text/plain": [
       "array(['asian export fear damag u japan rift mount trade friction u japan rais fear among mani asia export nation row could inflict far reach econom damag businessmen offici said told reuter correspond asian capit u move japan might boost protectionist sentiment u lead curb american import product export said conflict would hurt long run short term tokyo loss might gain u said impos mln dlr tariff import japanes electron good april retali japan alleg failur stick pact sell semiconductor world market cost unoffici japanes estim put impact tariff billion dlr spokesmen major electron firm said would virtual halt export product hit new tax abl busi said spokesman lead japanes electron firm matsushita electr industri co ltd lt mc tariff remain place length time beyond month mean complet eros export good subject tariff u said tom murtha stock analyst tokyo offic broker lt jame capel co taiwan businessmen offici also worri awar serious u threat japan serv warn us said senior taiwanes trade offici ask name taiwan trade trade surplu billion dlr last year pct u surplu help swell taiwan foreign exchang reserv billion dlr among world largest must quickli open market remov trade barrier cut import tariff allow import u product want defus problem possibl u retali said paul sheen chairman textil export lt taiwan safe group senior offici south korea trade promot associ said trade disput u japan might also lead pressur south korea whose chief export similar japan last year south korea trade surplu billion dlr u billion dlr malaysia trade offic businessmen said tough curb japan might allow hard hit produc semiconductor third countri expand sale u hong kong newspap alleg japan sell cost semiconductor electron manufactur share view businessmen said short term commerci advantag would outweigh u pressur block import short term view said lawrenc mill director gener feder hong kong industri whole purpos prevent import one day extend sourc much seriou hong kong disadvantag action restrain trade said u last year hong kong biggest export market account pct domest produc export australian govern await outcom trade talk u japan interest concern industri minist john button said canberra last friday kind deterior trade relat two countri major trade partner seriou matter button said said australia concern centr coal beef australia two largest export japan also signific u export countri meanwhil u japanes diplomat manoeuvr solv trade stand continu japan rule liber democrat parti yesterday outlin packag econom measur boost japanes economi measur propos includ larg supplementari budget record public work spend first half financi year also call step spend emerg measur stimul economi despit prime minist yasuhiro nakason avow fiscal reform program deputi u trade repres michael smith makoto kuroda japan deputi minist intern trade industri miti due meet washington week effort end disput',\n",
       "       'china daili say vermin eat pct grain stock survey provinc seven citi show vermin consum seven pct china grain stock china daili said also said year mln tonn pct china fruit output left rot mln tonn pct veget paper blame wast inadequ storag bad preserv method said govern launch nation programm reduc wast call improv technolog storag preserv greater product addit paper gave detail'],\n",
       "      dtype=object)"
      ]
     },
     "execution_count": 6,
     "metadata": {},
     "output_type": "execute_result"
    }
   ],
   "source": [
    "test_X = np.array(test[\"X\"])\n",
    "test_Y = np.array(test[\"Y\"])\n",
    "test_X[:2]"
   ]
  },
  {
   "cell_type": "code",
   "execution_count": 7,
   "metadata": {},
   "outputs": [
    {
     "data": {
      "text/plain": [
       "(7769, 18034)"
      ]
     },
     "execution_count": 7,
     "metadata": {},
     "output_type": "execute_result"
    }
   ],
   "source": [
    "vectorizer = TfidfVectorizer()\n",
    "train_data_vectors = vectorizer.fit_transform(train_X)\n",
    "train_data_vectors.shape"
   ]
  },
  {
   "cell_type": "code",
   "execution_count": 8,
   "metadata": {},
   "outputs": [
    {
     "data": {
      "text/plain": [
       "(3019, 18034)"
      ]
     },
     "execution_count": 8,
     "metadata": {},
     "output_type": "execute_result"
    }
   ],
   "source": [
    "test_data_vectors = vectorizer.transform(test_X)\n",
    "test_data_vectors.shape"
   ]
  },
  {
   "cell_type": "code",
   "execution_count": 9,
   "metadata": {},
   "outputs": [
    {
     "data": {
      "text/plain": [
       "MultinomialNB(alpha=0.01, class_prior=None, fit_prior=True)"
      ]
     },
     "execution_count": 9,
     "metadata": {},
     "output_type": "execute_result"
    }
   ],
   "source": [
    "bayes_classifier = MultinomialNB(alpha=0.01)\n",
    "bayes_classifier"
   ]
  },
  {
   "cell_type": "code",
   "execution_count": 10,
   "metadata": {},
   "outputs": [
    {
     "data": {
      "text/plain": [
       "array([[0, 0, 0, ..., 0, 0, 0],\n",
       "       [1, 0, 0, ..., 0, 0, 0],\n",
       "       [0, 0, 0, ..., 0, 0, 0],\n",
       "       ...,\n",
       "       [0, 0, 0, ..., 0, 0, 0],\n",
       "       [0, 0, 0, ..., 0, 0, 0],\n",
       "       [0, 0, 0, ..., 0, 0, 0]])"
      ]
     },
     "execution_count": 10,
     "metadata": {},
     "output_type": "execute_result"
    }
   ],
   "source": [
    "from sklearn.preprocessing import MultiLabelBinarizer\n",
    "mlb = MultiLabelBinarizer()\n",
    "new_y = mlb.fit_transform(train_Y)\n",
    "new_y"
   ]
  },
  {
   "cell_type": "code",
   "execution_count": 11,
   "metadata": {},
   "outputs": [
    {
     "data": {
      "text/plain": [
       "(7769, 90)"
      ]
     },
     "execution_count": 11,
     "metadata": {},
     "output_type": "execute_result"
    }
   ],
   "source": [
    "new_y.shape"
   ]
  },
  {
   "cell_type": "code",
   "execution_count": 12,
   "metadata": {},
   "outputs": [
    {
     "name": "stdout",
     "output_type": "stream",
     "text": [
      "[1 0 0 0 0 0 0 0 0 0 0 0 0 0 0 0 0 0 0 0 0 0 0 0 0 0 0 0 0 0 0 0 0 0 0 0 0\n",
      " 0 0 0 0 0 0 0 0 0 0 0 0 0 0 0 0 0 0 0 0 0 0 0 0 0 0 0 0 0 0 0 0 0 0 0 0 0\n",
      " 0 0 0 0 0 0 0 0 0 0 1 0 0 0 0 0]\n"
     ]
    }
   ],
   "source": [
    "for n in new_y:\n",
    "    if sum(n) > 1:\n",
    "        print(n)\n",
    "        break"
   ]
  },
  {
   "cell_type": "code",
   "execution_count": 13,
   "metadata": {
    "scrolled": true
   },
   "outputs": [
    {
     "data": {
      "text/plain": [
       "MultiOutputClassifier(estimator=MultinomialNB(alpha=0.01, class_prior=None,\n",
       "                                              fit_prior=True),\n",
       "                      n_jobs=-1)"
      ]
     },
     "execution_count": 13,
     "metadata": {},
     "output_type": "execute_result"
    }
   ],
   "source": [
    "# bayes_classifier.fit(train_data_vectors,new_y)\n",
    "\n",
    "from sklearn.multioutput import MultiOutputClassifier\n",
    "multi_target = MultiOutputClassifier(bayes_classifier, n_jobs=-1)\n",
    "multi_target.fit(train_data_vectors,new_y)\n"
   ]
  },
  {
   "cell_type": "code",
   "execution_count": 14,
   "metadata": {},
   "outputs": [
    {
     "data": {
      "text/plain": [
       "array([[0, 0, 0, ..., 0, 0, 0],\n",
       "       [0, 0, 0, ..., 0, 0, 0],\n",
       "       [0, 0, 0, ..., 0, 0, 0],\n",
       "       ...,\n",
       "       [0, 0, 0, ..., 0, 0, 0],\n",
       "       [0, 0, 0, ..., 0, 0, 0],\n",
       "       [0, 0, 0, ..., 0, 0, 0]])"
      ]
     },
     "execution_count": 14,
     "metadata": {},
     "output_type": "execute_result"
    }
   ],
   "source": [
    "test_predict = multi_target.predict(test_data_vectors)\n",
    "test_predict"
   ]
  },
  {
   "cell_type": "code",
   "execution_count": 15,
   "metadata": {},
   "outputs": [
    {
     "data": {
      "text/plain": [
       "array([0, 0, 0, 0, 0, 0, 0, 0, 0, 0, 0, 0, 0, 0, 0, 0, 0, 0, 0, 0, 0, 0,\n",
       "       0, 0, 0, 0, 0, 0, 0, 0, 0, 0, 0, 0, 0, 0, 0, 0, 0, 0, 0, 0, 0, 0,\n",
       "       0, 0, 0, 0, 0, 0, 0, 0, 0, 0, 0, 0, 0, 0, 0, 0, 0, 0, 0, 0, 0, 0,\n",
       "       0, 0, 0, 0, 0, 0, 0, 0, 0, 0, 0, 0, 0, 0, 0, 0, 0, 0, 1, 0, 0, 0,\n",
       "       0, 0])"
      ]
     },
     "execution_count": 15,
     "metadata": {},
     "output_type": "execute_result"
    }
   ],
   "source": [
    "test_predict[0]"
   ]
  },
  {
   "cell_type": "code",
   "execution_count": 16,
   "metadata": {},
   "outputs": [
    {
     "data": {
      "text/plain": [
       "array([0, 0, 0, 0, 0, 0, 0, 0, 0, 0, 0, 0, 0, 0, 0, 0, 0, 0, 0, 0, 0, 0,\n",
       "       0, 0, 0, 0, 0, 0, 0, 0, 0, 0, 0, 0, 0, 0, 0, 0, 0, 0, 0, 0, 0, 0,\n",
       "       0, 0, 0, 0, 0, 0, 0, 0, 0, 0, 0, 0, 0, 0, 0, 0, 0, 0, 0, 0, 0, 0,\n",
       "       0, 0, 0, 0, 0, 0, 0, 0, 0, 0, 0, 0, 0, 0, 0, 0, 0, 0, 1, 0, 0, 0,\n",
       "       0, 0])"
      ]
     },
     "execution_count": 16,
     "metadata": {},
     "output_type": "execute_result"
    }
   ],
   "source": [
    "new_y_test = mlb.transform(test_Y)\n",
    "new_y_test[0]"
   ]
  },
  {
   "cell_type": "code",
   "execution_count": 18,
   "metadata": {},
   "outputs": [
    {
     "data": {
      "text/plain": [
       "0.6840013249420338"
      ]
     },
     "execution_count": 18,
     "metadata": {},
     "output_type": "execute_result"
    }
   ],
   "source": [
    "acc = accuracy_score(new_y_test, test_predict)\n",
    "acc"
   ]
  },
  {
   "cell_type": "code",
   "execution_count": null,
   "metadata": {},
   "outputs": [],
   "source": [
    "test_Y"
   ]
  },
  {
   "cell_type": "code",
   "execution_count": null,
   "metadata": {},
   "outputs": [],
   "source": [
    "type(test_predict[0])"
   ]
  },
  {
   "cell_type": "code",
   "execution_count": null,
   "metadata": {},
   "outputs": [],
   "source": []
  }
 ],
 "metadata": {
  "kernelspec": {
   "display_name": "Python 3",
   "language": "python",
   "name": "python3"
  },
  "language_info": {
   "codemirror_mode": {
    "name": "ipython",
    "version": 3
   },
   "file_extension": ".py",
   "mimetype": "text/x-python",
   "name": "python",
   "nbconvert_exporter": "python",
   "pygments_lexer": "ipython3",
   "version": "3.7.4"
  }
 },
 "nbformat": 4,
 "nbformat_minor": 2
}
