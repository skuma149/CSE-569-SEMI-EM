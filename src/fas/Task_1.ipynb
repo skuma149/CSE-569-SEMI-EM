{
 "cells": [
  {
   "cell_type": "code",
   "execution_count": 1,
   "metadata": {},
   "outputs": [],
   "source": [
    "from sklearn.feature_extraction.text import TfidfVectorizer\n",
    "from sklearn.naive_bayes import MultinomialNB\n",
    "from sklearn.metrics import accuracy_score\n",
    "from sklearn import metrics\n",
    "import pandas as pd \n",
    "import numpy as np\n",
    "import seaborn as sns\n",
    "import matplotlib.pyplot as plt\n",
    "%matplotlib inline"
   ]
  },
  {
   "cell_type": "markdown",
   "metadata": {},
   "source": [
    "# import data (20 newsgroups)\n"
   ]
  },
  {
   "cell_type": "code",
   "execution_count": 2,
   "metadata": {},
   "outputs": [
    {
     "data": {
      "text/html": [
       "<div>\n",
       "<style scoped>\n",
       "    .dataframe tbody tr th:only-of-type {\n",
       "        vertical-align: middle;\n",
       "    }\n",
       "\n",
       "    .dataframe tbody tr th {\n",
       "        vertical-align: top;\n",
       "    }\n",
       "\n",
       "    .dataframe thead th {\n",
       "        text-align: right;\n",
       "    }\n",
       "</style>\n",
       "<table border=\"1\" class=\"dataframe\">\n",
       "  <thead>\n",
       "    <tr style=\"text-align: right;\">\n",
       "      <th></th>\n",
       "      <th>Unnamed: 0</th>\n",
       "      <th>X</th>\n",
       "      <th>Y</th>\n",
       "    </tr>\n",
       "  </thead>\n",
       "  <tbody>\n",
       "    <tr>\n",
       "      <td>0</td>\n",
       "      <td>0</td>\n",
       "      <td>lerxst wam umd edu thing subject car nntp post...</td>\n",
       "      <td>7</td>\n",
       "    </tr>\n",
       "    <tr>\n",
       "      <td>1</td>\n",
       "      <td>1</td>\n",
       "      <td>guykuo carson u washington edu guy kuo subject...</td>\n",
       "      <td>4</td>\n",
       "    </tr>\n",
       "    <tr>\n",
       "      <td>2</td>\n",
       "      <td>2</td>\n",
       "      <td>twilli ec ecn purdu edu thoma e willi subject ...</td>\n",
       "      <td>4</td>\n",
       "    </tr>\n",
       "    <tr>\n",
       "      <td>3</td>\n",
       "      <td>3</td>\n",
       "      <td>jgreen amber joe green subject weitek p organ ...</td>\n",
       "      <td>1</td>\n",
       "    </tr>\n",
       "    <tr>\n",
       "      <td>4</td>\n",
       "      <td>4</td>\n",
       "      <td>jcm head cfa harvard edu jonathan mcdowel subj...</td>\n",
       "      <td>14</td>\n",
       "    </tr>\n",
       "    <tr>\n",
       "      <td>...</td>\n",
       "      <td>...</td>\n",
       "      <td>...</td>\n",
       "      <td>...</td>\n",
       "    </tr>\n",
       "    <tr>\n",
       "      <td>11309</td>\n",
       "      <td>11309</td>\n",
       "      <td>jim zisfein factori com jim zisfein subject mi...</td>\n",
       "      <td>13</td>\n",
       "    </tr>\n",
       "    <tr>\n",
       "      <td>11310</td>\n",
       "      <td>11310</td>\n",
       "      <td>ebodin pearl tuft edu subject screen death mac...</td>\n",
       "      <td>4</td>\n",
       "    </tr>\n",
       "    <tr>\n",
       "      <td>11311</td>\n",
       "      <td>11311</td>\n",
       "      <td>west netcom com est subject mount cpu cooler v...</td>\n",
       "      <td>3</td>\n",
       "    </tr>\n",
       "    <tr>\n",
       "      <td>11312</td>\n",
       "      <td>11312</td>\n",
       "      <td>steve hcrlgw steven collin subject sphere poin...</td>\n",
       "      <td>1</td>\n",
       "    </tr>\n",
       "    <tr>\n",
       "      <td>11313</td>\n",
       "      <td>11313</td>\n",
       "      <td>gun cco caltech edu kevin j gun subject stolen...</td>\n",
       "      <td>8</td>\n",
       "    </tr>\n",
       "  </tbody>\n",
       "</table>\n",
       "<p>11314 rows × 3 columns</p>\n",
       "</div>"
      ],
      "text/plain": [
       "       Unnamed: 0                                                  X   Y\n",
       "0               0  lerxst wam umd edu thing subject car nntp post...   7\n",
       "1               1  guykuo carson u washington edu guy kuo subject...   4\n",
       "2               2  twilli ec ecn purdu edu thoma e willi subject ...   4\n",
       "3               3  jgreen amber joe green subject weitek p organ ...   1\n",
       "4               4  jcm head cfa harvard edu jonathan mcdowel subj...  14\n",
       "...           ...                                                ...  ..\n",
       "11309       11309  jim zisfein factori com jim zisfein subject mi...  13\n",
       "11310       11310  ebodin pearl tuft edu subject screen death mac...   4\n",
       "11311       11311  west netcom com est subject mount cpu cooler v...   3\n",
       "11312       11312  steve hcrlgw steven collin subject sphere poin...   1\n",
       "11313       11313  gun cco caltech edu kevin j gun subject stolen...   8\n",
       "\n",
       "[11314 rows x 3 columns]"
      ]
     },
     "execution_count": 2,
     "metadata": {},
     "output_type": "execute_result"
    }
   ],
   "source": [
    "train = pd.read_csv('../data/train_cleaned_stemed_20newsgroups.csv', delimiter = ',')\n",
    "test = pd.read_csv('../data/test_cleaned_stemed_20newsgroups.csv', delimiter = ',')\n",
    "train "
   ]
  },
  {
   "cell_type": "code",
   "execution_count": 3,
   "metadata": {},
   "outputs": [
    {
     "data": {
      "text/plain": [
       "(11314,)"
      ]
     },
     "execution_count": 3,
     "metadata": {},
     "output_type": "execute_result"
    }
   ],
   "source": [
    "train_X = np.array(train[\"X\"])\n",
    "train_Y = np.array(train[\"Y\"])\n",
    "train_X.shape"
   ]
  },
  {
   "cell_type": "code",
   "execution_count": 4,
   "metadata": {},
   "outputs": [
    {
     "data": {
      "text/html": [
       "<div>\n",
       "<style scoped>\n",
       "    .dataframe tbody tr th:only-of-type {\n",
       "        vertical-align: middle;\n",
       "    }\n",
       "\n",
       "    .dataframe tbody tr th {\n",
       "        vertical-align: top;\n",
       "    }\n",
       "\n",
       "    .dataframe thead th {\n",
       "        text-align: right;\n",
       "    }\n",
       "</style>\n",
       "<table border=\"1\" class=\"dataframe\">\n",
       "  <thead>\n",
       "    <tr style=\"text-align: right;\">\n",
       "      <th></th>\n",
       "      <th>Unnamed: 0</th>\n",
       "      <th>X</th>\n",
       "      <th>Y</th>\n",
       "    </tr>\n",
       "  </thead>\n",
       "  <tbody>\n",
       "    <tr>\n",
       "      <td>0</td>\n",
       "      <td>0</td>\n",
       "      <td>v mb k ubvmsd cc buffalo edu neil b gandler su...</td>\n",
       "      <td>7</td>\n",
       "    </tr>\n",
       "    <tr>\n",
       "      <td>1</td>\n",
       "      <td>1</td>\n",
       "      <td>rick miller rick ee uwm edu subject x face org...</td>\n",
       "      <td>5</td>\n",
       "    </tr>\n",
       "    <tr>\n",
       "      <td>2</td>\n",
       "      <td>2</td>\n",
       "      <td>mathew mathew manti co uk subject strong weak ...</td>\n",
       "      <td>0</td>\n",
       "    </tr>\n",
       "    <tr>\n",
       "      <td>3</td>\n",
       "      <td>3</td>\n",
       "      <td>bakken cs arizona edu dave bakken subject saud...</td>\n",
       "      <td>17</td>\n",
       "    </tr>\n",
       "    <tr>\n",
       "      <td>4</td>\n",
       "      <td>4</td>\n",
       "      <td>livesey solntz wpd sgi com jon livesey subject...</td>\n",
       "      <td>19</td>\n",
       "    </tr>\n",
       "    <tr>\n",
       "      <td>...</td>\n",
       "      <td>...</td>\n",
       "      <td>...</td>\n",
       "      <td>...</td>\n",
       "    </tr>\n",
       "    <tr>\n",
       "      <td>7527</td>\n",
       "      <td>7527</td>\n",
       "      <td>richmond spiff princeton edu stupend man subje...</td>\n",
       "      <td>14</td>\n",
       "    </tr>\n",
       "    <tr>\n",
       "      <td>7528</td>\n",
       "      <td>7528</td>\n",
       "      <td>smytonj murr alleg edu jim smyton subject moni...</td>\n",
       "      <td>4</td>\n",
       "    </tr>\n",
       "    <tr>\n",
       "      <td>7529</td>\n",
       "      <td>7529</td>\n",
       "      <td>hhenderson vax clarku edu subject game length ...</td>\n",
       "      <td>9</td>\n",
       "    </tr>\n",
       "    <tr>\n",
       "      <td>7530</td>\n",
       "      <td>7530</td>\n",
       "      <td>b zam utarlg uta edu subject intel chmo design...</td>\n",
       "      <td>6</td>\n",
       "    </tr>\n",
       "    <tr>\n",
       "      <td>7531</td>\n",
       "      <td>7531</td>\n",
       "      <td>adamsj gtewd mtv gtegsc com subject homosexu i...</td>\n",
       "      <td>15</td>\n",
       "    </tr>\n",
       "  </tbody>\n",
       "</table>\n",
       "<p>7532 rows × 3 columns</p>\n",
       "</div>"
      ],
      "text/plain": [
       "      Unnamed: 0                                                  X   Y\n",
       "0              0  v mb k ubvmsd cc buffalo edu neil b gandler su...   7\n",
       "1              1  rick miller rick ee uwm edu subject x face org...   5\n",
       "2              2  mathew mathew manti co uk subject strong weak ...   0\n",
       "3              3  bakken cs arizona edu dave bakken subject saud...  17\n",
       "4              4  livesey solntz wpd sgi com jon livesey subject...  19\n",
       "...          ...                                                ...  ..\n",
       "7527        7527  richmond spiff princeton edu stupend man subje...  14\n",
       "7528        7528  smytonj murr alleg edu jim smyton subject moni...   4\n",
       "7529        7529  hhenderson vax clarku edu subject game length ...   9\n",
       "7530        7530  b zam utarlg uta edu subject intel chmo design...   6\n",
       "7531        7531  adamsj gtewd mtv gtegsc com subject homosexu i...  15\n",
       "\n",
       "[7532 rows x 3 columns]"
      ]
     },
     "execution_count": 4,
     "metadata": {},
     "output_type": "execute_result"
    }
   ],
   "source": [
    "test"
   ]
  },
  {
   "cell_type": "code",
   "execution_count": 5,
   "metadata": {},
   "outputs": [
    {
     "data": {
      "text/plain": [
       "array(['v mb k ubvmsd cc buffalo edu neil b gandler subject need info bonnevil organ univers buffalo line news softwar vax vm vnew nntp post host ubvmsd cc buffalo edu littl confus model bonnevil heard le se lse sse ssei could someon tell differ far featur perform also curiou know book valu prefer model much less book valu usual get word much demand time year heard mid spring earli summer best time buy neil gandler',\n",
       "       'rick miller rick ee uwm edu subject x face organ line distribut world nntp post host summari go ahead swamp eep familiar format x face thingi see folk header got see mayb make one got dpg view linux box display uncompress x face manag compil un compfac look seem find x face anyon news header could would pleas send x face header know probabl get littl swamp handl hope rick miller rick ee uwm edu ricxjo discu mil wi us ricxjo muelisto send postcard get one back enposxtigu bildkarton kaj vi ricevo alion rick miller wood muskego wi usa'],\n",
       "      dtype=object)"
      ]
     },
     "execution_count": 5,
     "metadata": {},
     "output_type": "execute_result"
    }
   ],
   "source": [
    "test_X = np.array(test[\"X\"])\n",
    "test_Y = np.array(test[\"Y\"])\n",
    "test_X[:2]"
   ]
  },
  {
   "cell_type": "code",
   "execution_count": 6,
   "metadata": {},
   "outputs": [
    {
     "data": {
      "text/plain": [
       "(11314, 69684)"
      ]
     },
     "execution_count": 6,
     "metadata": {},
     "output_type": "execute_result"
    }
   ],
   "source": [
    "vectorizer = TfidfVectorizer()\n",
    "train_data_vectors = vectorizer.fit_transform(train_X)\n",
    "train_data_vectors.shape"
   ]
  },
  {
   "cell_type": "code",
   "execution_count": 7,
   "metadata": {},
   "outputs": [
    {
     "data": {
      "text/plain": [
       "<1x69684 sparse matrix of type '<class 'numpy.float64'>'\n",
       "\twith 57 stored elements in Compressed Sparse Row format>"
      ]
     },
     "execution_count": 7,
     "metadata": {},
     "output_type": "execute_result"
    }
   ],
   "source": [
    "train_data_vectors[0]"
   ]
  },
  {
   "cell_type": "code",
   "execution_count": 8,
   "metadata": {},
   "outputs": [
    {
     "data": {
      "text/plain": [
       "(7532, 69684)"
      ]
     },
     "execution_count": 8,
     "metadata": {},
     "output_type": "execute_result"
    }
   ],
   "source": [
    "test_data_vectors = vectorizer.transform(test_X)\n",
    "test_data_vectors.shape"
   ]
  },
  {
   "cell_type": "code",
   "execution_count": 9,
   "metadata": {},
   "outputs": [
    {
     "data": {
      "text/plain": [
       "MultinomialNB(alpha=0.01, class_prior=None, fit_prior=True)"
      ]
     },
     "execution_count": 9,
     "metadata": {},
     "output_type": "execute_result"
    }
   ],
   "source": [
    "bayes_classifier = MultinomialNB(alpha=0.01)\n",
    "bayes_classifier"
   ]
  },
  {
   "cell_type": "code",
   "execution_count": 10,
   "metadata": {},
   "outputs": [
    {
     "data": {
      "text/plain": [
       "MultinomialNB(alpha=0.01, class_prior=None, fit_prior=True)"
      ]
     },
     "execution_count": 10,
     "metadata": {},
     "output_type": "execute_result"
    }
   ],
   "source": [
    "bayes_classifier.fit(train_data_vectors,train_Y)"
   ]
  },
  {
   "cell_type": "code",
   "execution_count": 11,
   "metadata": {},
   "outputs": [
    {
     "data": {
      "text/plain": [
       "array([ 7, 11,  0, ...,  9,  3, 15], dtype=int64)"
      ]
     },
     "execution_count": 11,
     "metadata": {},
     "output_type": "execute_result"
    }
   ],
   "source": [
    "test_predict = bayes_classifier.predict(test_data_vectors)\n",
    "test_predict"
   ]
  },
  {
   "cell_type": "markdown",
   "metadata": {},
   "source": [
    "Accuracy Score:"
   ]
  },
  {
   "cell_type": "code",
   "execution_count": 12,
   "metadata": {},
   "outputs": [
    {
     "data": {
      "text/plain": [
       "0.8238183749336165"
      ]
     },
     "execution_count": 12,
     "metadata": {},
     "output_type": "execute_result"
    }
   ],
   "source": [
    "acc = accuracy_score(test_Y, test_predict)\n",
    "acc"
   ]
  },
  {
   "cell_type": "code",
   "execution_count": 46,
   "metadata": {},
   "outputs": [
    {
     "data": {
      "text/plain": [
       "Text(0.5, 1, 'Confusion Matrix')"
      ]
     },
     "execution_count": 46,
     "metadata": {},
     "output_type": "execute_result"
    },
    {
     "data": {
      "image/png": "[encoded data removed]",
      "text/plain": [
       "<Figure size 1008x1008 with 2 Axes>"
      ]
     },
     "metadata": {},
     "output_type": "display_data"
    }
   ],
   "source": [
    "plt.figure(figsize=(14,14))\n",
    "sns.set()#font_scale=1)\n",
    "sns.heatmap(metrics.confusion_matrix(test_Y, test_predict) , annot=True , fmt=\"d\", linewidths=.2, cmap=\"BuPu\", vmax= 100)\n",
    "plt.title(\"Confusion Matrix\")"
   ]
  },
  {
   "cell_type": "code",
   "execution_count": 26,
   "metadata": {},
   "outputs": [],
   "source": [
    "cof = metrics.confusion_matrix(test_Y, test_predict)"
   ]
  },
  {
   "cell_type": "code",
   "execution_count": 27,
   "metadata": {},
   "outputs": [
    {
     "data": {
      "text/plain": [
       "(20, 20)"
      ]
     },
     "execution_count": 27,
     "metadata": {},
     "output_type": "execute_result"
    }
   ],
   "source": [
    "cof.shape"
   ]
  },
  {
   "cell_type": "code",
   "execution_count": 28,
   "metadata": {},
   "outputs": [],
   "source": [
    "for i in range(20):\n",
    "    for j in range(20):\n",
    "        if i == j:\n",
    "            cof[i,j] = -1"
   ]
  },
  {
   "cell_type": "code",
   "execution_count": 29,
   "metadata": {},
   "outputs": [
    {
     "data": {
      "text/plain": [
       "array([[-1,  0,  0,  4,  0,  1,  0,  0,  1,  1,  0,  2,  0,  4,  4, 23,\n",
       "         3,  3,  0, 20],\n",
       "       [ 0, -1, 15, 13,  9, 25,  6,  1,  1,  3,  0,  6, 13,  0,  7,  3,\n",
       "         1,  1,  0,  0],\n",
       "       [ 0, 26, -1, 48, 13, 22,  8,  2,  1,  2,  0,  6,  1,  1,  5,  1,\n",
       "         0,  0,  2,  2],\n",
       "       [ 0,  8, 26, -1, 23,  2, 13,  1,  1,  1,  0,  1, 26,  0,  3,  0,\n",
       "         0,  0,  0,  0],\n",
       "       [ 0,  8, 12, 14, -1,  3,  9,  4,  1,  1,  0,  4, 10,  2,  0,  0,\n",
       "         1,  0,  0,  0],\n",
       "       [ 0, 42, 18, 10,  8, -1,  1,  1,  5,  0,  1,  6,  2,  1,  4,  0,\n",
       "         1,  0,  0,  0],\n",
       "       [ 0,  3,  7, 35, 14,  1, -1, 13,  9,  1,  2,  0, 12,  6,  4,  0,\n",
       "         1,  0,  0,  0],\n",
       "       [ 0,  3,  1,  3,  2,  0, 14, -1,  9,  1,  0,  0,  5,  1,  2,  0,\n",
       "         2,  0,  1,  0],\n",
       "       [ 0,  1,  0,  0,  0,  1,  3,  9, -1,  0,  0,  0,  3,  0,  1,  0,\n",
       "         0,  0,  0,  0],\n",
       "       [ 0,  1,  0,  0,  3,  0,  2,  2,  1, -1, 10,  0,  2,  0,  2,  0,\n",
       "         0,  2,  0,  0],\n",
       "       [ 0,  0,  0,  0,  0,  1,  1,  0,  0,  5, -1,  1,  0,  1,  0,  1,\n",
       "         0,  0,  1,  0],\n",
       "       [ 0,  1,  2,  4,  2,  2,  2,  2,  0,  0,  0, -1,  3,  3,  2,  0,\n",
       "         6,  0,  0,  0],\n",
       "       [ 1,  9, 14, 22,  8,  1, 12,  4,  8,  0,  0,  8, -1,  9,  4,  0,\n",
       "         0,  2,  1,  0],\n",
       "       [ 3, 11,  1,  2,  2,  2,  4,  5,  4,  2,  0,  5,  9, -1,  1,  9,\n",
       "         2,  1, 11,  2],\n",
       "       [ 1, 12,  2,  2,  0,  3,  2,  2,  0,  0,  0,  3,  4,  5, -1,  1,\n",
       "         1,  0,  5,  0],\n",
       "       [ 3,  2,  1,  1,  0,  0,  0,  0,  0,  1,  1,  0,  0,  2,  2, -1,\n",
       "         0,  0,  2,  9],\n",
       "       [ 0,  0,  0,  1,  0,  0,  1,  0,  2,  1,  0,  6,  1,  2,  0,  0,\n",
       "        -1,  1, 12,  8],\n",
       "       [ 2,  1,  0,  1,  0,  1,  0,  0,  0,  1,  0,  0,  0,  1,  0,  1,\n",
       "         1, -1, 11,  1],\n",
       "       [ 4,  2,  0,  1,  1,  0,  1,  3,  0,  0,  1,  3,  0,  2,  9,  2,\n",
       "        68,  3, -1, 12],\n",
       "       [33,  0,  1,  0,  0,  0,  2,  2,  0,  1,  0,  0,  1,  2,  6, 25,\n",
       "        14,  1,  6, -1]], dtype=int64)"
      ]
     },
     "execution_count": 29,
     "metadata": {},
     "output_type": "execute_result"
    }
   ],
   "source": [
    "cof"
   ]
  },
  {
   "cell_type": "code",
   "execution_count": 32,
   "metadata": {},
   "outputs": [
    {
     "ename": "TypeError",
     "evalue": "'numpy.bool_' object is not iterable",
     "output_type": "error",
     "traceback": [
      "\u001b[1;31m---------------------------------------------------------------------------\u001b[0m",
      "\u001b[1;31mTypeError\u001b[0m                                 Traceback (most recent call last)",
      "\u001b[1;32m<ipython-input-32-5e0c0623ecf0>\u001b[0m in \u001b[0;36m<module>\u001b[1;34m\u001b[0m\n\u001b[1;32m----> 1\u001b[1;33m \u001b[0mmax\u001b[0m\u001b[1;33m(\u001b[0m\u001b[0mcof\u001b[0m\u001b[1;33m.\u001b[0m\u001b[0mall\u001b[0m\u001b[1;33m(\u001b[0m\u001b[1;33m)\u001b[0m\u001b[1;33m)\u001b[0m\u001b[1;33m\u001b[0m\u001b[1;33m\u001b[0m\u001b[0m\n\u001b[0m",
      "\u001b[1;31mTypeError\u001b[0m: 'numpy.bool_' object is not iterable"
     ]
    }
   ],
   "source": []
  },
  {
   "cell_type": "code",
   "execution_count": null,
   "metadata": {},
   "outputs": [],
   "source": []
  }
 ],
 "metadata": {
  "kernelspec": {
   "display_name": "Python 3",
   "language": "python",
   "name": "python3"
  },
  "language_info": {
   "codemirror_mode": {
    "name": "ipython",
    "version": 3
   },
   "file_extension": ".py",
   "mimetype": "text/x-python",
   "name": "python",
   "nbconvert_exporter": "python",
   "pygments_lexer": "ipython3",
   "version": "3.7.4"
  }
 },
 "nbformat": 4,
 "nbformat_minor": 2
}
